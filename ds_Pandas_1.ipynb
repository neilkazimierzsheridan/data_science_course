{
  "nbformat": 4,
  "nbformat_minor": 0,
  "metadata": {
    "colab": {
      "name": "ds_Pandas_1.ipynb",
      "provenance": [],
      "authorship_tag": "ABX9TyMLWXkZaTkJFpn1uCRjSmYT",
      "include_colab_link": true
    },
    "kernelspec": {
      "name": "python3",
      "display_name": "Python 3"
    },
    "language_info": {
      "name": "python"
    }
  },
  "cells": [
    {
      "cell_type": "markdown",
      "metadata": {
        "id": "view-in-github",
        "colab_type": "text"
      },
      "source": [
        "<a href=\"https://colab.research.google.com/github/neilkazimierzsheridan/data_science_course/blob/main/ds_Pandas_1.ipynb\" target=\"_parent\"><img src=\"https://colab.research.google.com/assets/colab-badge.svg\" alt=\"Open In Colab\"/></a>"
      ]
    },
    {
      "cell_type": "code",
      "metadata": {
        "id": "C2BtHQQmxU3t"
      },
      "source": [
        "#PANDAS! reading and writing between many formats\n",
        "# grab based on indexing, logic, subsetting, handle missing data,\n",
        "# adjust and restructure\n",
        "# we are only limited by our RAM when working with large datasets\n",
        "\n",
        "#1. Series Object\n",
        "# This is a data structure that holds array of information along with\n",
        "# a named index. The named index sets it apart from numpy array\n",
        "# so we could have a nice string label index\n",
        "\n",
        "# 1d ndarray with axis labels\n"
      ],
      "execution_count": null,
      "outputs": []
    },
    {
      "cell_type": "code",
      "metadata": {
        "id": "_AlKJUV60bID"
      },
      "source": [
        "import numpy as np\n",
        "import pandas as pd"
      ],
      "execution_count": 1,
      "outputs": []
    },
    {
      "cell_type": "code",
      "metadata": {
        "id": "kwTBiw1R0n6s"
      },
      "source": [
        "#help(pd.Series)"
      ],
      "execution_count": null,
      "outputs": []
    },
    {
      "cell_type": "code",
      "metadata": {
        "colab": {
          "base_uri": "https://localhost:8080/"
        },
        "id": "qDnjkSgx0q9q",
        "outputId": "d5879b7a-11c6-4712-f5e6-60a0466a8faa"
      },
      "source": [
        "myindex = ['USA', 'Canada', 'Mexico']\n",
        "mydata = [1776,1867,1821]\n",
        "\n",
        "myser = pd.Series(data=mydata)\n",
        "myser"
      ],
      "execution_count": 3,
      "outputs": [
        {
          "output_type": "execute_result",
          "data": {
            "text/plain": [
              "0    1776\n",
              "1    1867\n",
              "2    1821\n",
              "dtype: int64"
            ]
          },
          "metadata": {
            "tags": []
          },
          "execution_count": 3
        }
      ]
    },
    {
      "cell_type": "code",
      "metadata": {
        "colab": {
          "base_uri": "https://localhost:8080/"
        },
        "id": "ytidUqDa1_wL",
        "outputId": "cd66f686-c8ed-4f9b-88b5-f49de673f1ba"
      },
      "source": [
        "type(myser)"
      ],
      "execution_count": 4,
      "outputs": [
        {
          "output_type": "execute_result",
          "data": {
            "text/plain": [
              "pandas.core.series.Series"
            ]
          },
          "metadata": {
            "tags": []
          },
          "execution_count": 4
        }
      ]
    },
    {
      "cell_type": "code",
      "metadata": {
        "colab": {
          "base_uri": "https://localhost:8080/"
        },
        "id": "4x_z6T8R2FCj",
        "outputId": "3e6e8bd7-8865-4d81-c903-8aba5e582f49"
      },
      "source": [
        "#Now lets pass the strings as the index\n",
        "myser = pd.Series(data=mydata, index=myindex)\n",
        "myser"
      ],
      "execution_count": 5,
      "outputs": [
        {
          "output_type": "execute_result",
          "data": {
            "text/plain": [
              "USA       1776\n",
              "Canada    1867\n",
              "Mexico    1821\n",
              "dtype: int64"
            ]
          },
          "metadata": {
            "tags": []
          },
          "execution_count": 5
        }
      ]
    },
    {
      "cell_type": "code",
      "metadata": {
        "colab": {
          "base_uri": "https://localhost:8080/"
        },
        "id": "gLMhAGVA2Nux",
        "outputId": "fec0ed45-381d-4198-97af-bc2a83d24330"
      },
      "source": [
        "#Grab data from it\n",
        "myser[0]"
      ],
      "execution_count": 6,
      "outputs": [
        {
          "output_type": "execute_result",
          "data": {
            "text/plain": [
              "1776"
            ]
          },
          "metadata": {
            "tags": []
          },
          "execution_count": 6
        }
      ]
    },
    {
      "cell_type": "code",
      "metadata": {
        "colab": {
          "base_uri": "https://localhost:8080/"
        },
        "id": "OfkzChPD2TA2",
        "outputId": "66df8c5e-edd2-4bed-e46a-152825eed725"
      },
      "source": [
        "#With the string index \n",
        "myser['Mexico']"
      ],
      "execution_count": 7,
      "outputs": [
        {
          "output_type": "execute_result",
          "data": {
            "text/plain": [
              "1821"
            ]
          },
          "metadata": {
            "tags": []
          },
          "execution_count": 7
        }
      ]
    },
    {
      "cell_type": "code",
      "metadata": {
        "colab": {
          "base_uri": "https://localhost:8080/"
        },
        "id": "DRhhQ85J2qH0",
        "outputId": "437d0133-1ba9-42da-f279-7761d3deac94"
      },
      "source": [
        "#Create a series from a dictionary\n",
        "ages = {'Sam':5, 'Frank':10, 'Spike':7}\n",
        "pd.Series(ages)"
      ],
      "execution_count": 8,
      "outputs": [
        {
          "output_type": "execute_result",
          "data": {
            "text/plain": [
              "Sam       5\n",
              "Frank    10\n",
              "Spike     7\n",
              "dtype: int64"
            ]
          },
          "metadata": {
            "tags": []
          },
          "execution_count": 8
        }
      ]
    },
    {
      "cell_type": "code",
      "metadata": {
        "id": "C3R3NopP3PUR"
      },
      "source": [
        "#imaginary sales data dictionaries\n",
        "q1 = {'Japan': 80, 'China': 450, 'India': 200, 'USA':250}\n",
        "q2 = {'Brazil': 100, 'China': 500, 'India': 210, 'USA': 260}"
      ],
      "execution_count": 9,
      "outputs": []
    },
    {
      "cell_type": "code",
      "metadata": {
        "colab": {
          "base_uri": "https://localhost:8080/"
        },
        "id": "15m_FQ6E318j",
        "outputId": "11d68895-73fc-4091-cace-1d04415c32ad"
      },
      "source": [
        "sales_q1 = pd.Series(q1)\n",
        "sales_q2 = pd.Series(q2)"
      ],
      "execution_count": 11,
      "outputs": [
        {
          "output_type": "execute_result",
          "data": {
            "text/plain": [
              "Brazil    100\n",
              "China     500\n",
              "India     210\n",
              "USA       260\n",
              "dtype: int64"
            ]
          },
          "metadata": {
            "tags": []
          },
          "execution_count": 11
        }
      ]
    },
    {
      "cell_type": "code",
      "metadata": {
        "colab": {
          "base_uri": "https://localhost:8080/"
        },
        "id": "O2z-PkNl4EZm",
        "outputId": "7e82f85a-bb40-44d8-9ec0-5d7db02b2382"
      },
      "source": [
        "sales_q1"
      ],
      "execution_count": 12,
      "outputs": [
        {
          "output_type": "execute_result",
          "data": {
            "text/plain": [
              "Japan     80\n",
              "China    450\n",
              "India    200\n",
              "USA      250\n",
              "dtype: int64"
            ]
          },
          "metadata": {
            "tags": []
          },
          "execution_count": 12
        }
      ]
    },
    {
      "cell_type": "code",
      "metadata": {
        "colab": {
          "base_uri": "https://localhost:8080/"
        },
        "id": "WBrLFIJ44Gg0",
        "outputId": "02c5d170-4df3-41ea-89ce-943fce5977a1"
      },
      "source": [
        "sales_q2"
      ],
      "execution_count": 13,
      "outputs": [
        {
          "output_type": "execute_result",
          "data": {
            "text/plain": [
              "Brazil    100\n",
              "China     500\n",
              "India     210\n",
              "USA       260\n",
              "dtype: int64"
            ]
          },
          "metadata": {
            "tags": []
          },
          "execution_count": 13
        }
      ]
    },
    {
      "cell_type": "code",
      "metadata": {
        "colab": {
          "base_uri": "https://localhost:8080/"
        },
        "id": "STIHNnvM4Iz9",
        "outputId": "52e23ca8-8410-4107-aa91-4a3e281004fc"
      },
      "source": [
        "sales_q1['China']"
      ],
      "execution_count": 14,
      "outputs": [
        {
          "output_type": "execute_result",
          "data": {
            "text/plain": [
              "450"
            ]
          },
          "metadata": {
            "tags": []
          },
          "execution_count": 14
        }
      ]
    },
    {
      "cell_type": "code",
      "metadata": {
        "colab": {
          "base_uri": "https://localhost:8080/"
        },
        "id": "Gb8OD3Rz4NnM",
        "outputId": "7a4d9437-c1bb-49c6-e415-e9a00a775eb7"
      },
      "source": [
        "sales_q1.keys() #see the keys\n"
      ],
      "execution_count": 15,
      "outputs": [
        {
          "output_type": "execute_result",
          "data": {
            "text/plain": [
              "Index(['Japan', 'China', 'India', 'USA'], dtype='object')"
            ]
          },
          "metadata": {
            "tags": []
          },
          "execution_count": 15
        }
      ]
    },
    {
      "cell_type": "code",
      "metadata": {
        "colab": {
          "base_uri": "https://localhost:8080/"
        },
        "id": "-uZKWcxt5PGL",
        "outputId": "972470e7-2297-4dde-b7d9-a766cb9e5696"
      },
      "source": [
        "#operations between two series just like numpy array\n",
        "sales_q1 * 2 #report back via broadcasted operation"
      ],
      "execution_count": 16,
      "outputs": [
        {
          "output_type": "execute_result",
          "data": {
            "text/plain": [
              "Japan    160\n",
              "China    900\n",
              "India    400\n",
              "USA      500\n",
              "dtype: int64"
            ]
          },
          "metadata": {
            "tags": []
          },
          "execution_count": 16
        }
      ]
    },
    {
      "cell_type": "code",
      "metadata": {
        "colab": {
          "base_uri": "https://localhost:8080/"
        },
        "id": "KDU3rMhY5tGO",
        "outputId": "f7c8c409-b2be-4633-98e8-4220f3b1077b"
      },
      "source": [
        "sales_q1 / 100"
      ],
      "execution_count": 17,
      "outputs": [
        {
          "output_type": "execute_result",
          "data": {
            "text/plain": [
              "Japan    0.8\n",
              "China    4.5\n",
              "India    2.0\n",
              "USA      2.5\n",
              "dtype: float64"
            ]
          },
          "metadata": {
            "tags": []
          },
          "execution_count": 17
        }
      ]
    },
    {
      "cell_type": "code",
      "metadata": {
        "colab": {
          "base_uri": "https://localhost:8080/"
        },
        "id": "g1138CYw5zHQ",
        "outputId": "2112e666-87a0-4f69-9d9f-ab35aab136e5"
      },
      "source": [
        "sales_q1 + sales_q2 # but there are different countries in each!\n",
        "#tells us brazil and japan not present in bother series"
      ],
      "execution_count": 18,
      "outputs": [
        {
          "output_type": "execute_result",
          "data": {
            "text/plain": [
              "Brazil      NaN\n",
              "China     950.0\n",
              "India     410.0\n",
              "Japan       NaN\n",
              "USA       510.0\n",
              "dtype: float64"
            ]
          },
          "metadata": {
            "tags": []
          },
          "execution_count": 18
        }
      ]
    },
    {
      "cell_type": "code",
      "metadata": {
        "colab": {
          "base_uri": "https://localhost:8080/"
        },
        "id": "2bw59nQO6Q3k",
        "outputId": "6749de67-3c38-45ad-a68d-09291bc78697"
      },
      "source": [
        "#that's ok I want them filled in with some value\n",
        "sales_q1.add(sales_q2, fill_value=0)\n",
        "# so I can fill them with 0 for the quarter they are not present in! Very NICE!"
      ],
      "execution_count": 19,
      "outputs": [
        {
          "output_type": "execute_result",
          "data": {
            "text/plain": [
              "Brazil    100.0\n",
              "China     950.0\n",
              "India     410.0\n",
              "Japan      80.0\n",
              "USA       510.0\n",
              "dtype: float64"
            ]
          },
          "metadata": {
            "tags": []
          },
          "execution_count": 19
        }
      ]
    },
    {
      "cell_type": "code",
      "metadata": {
        "colab": {
          "base_uri": "https://localhost:8080/"
        },
        "id": "A4mSsYMI61ur",
        "outputId": "5a2daab7-ebf2-4c07-d248-5149f171aedf"
      },
      "source": [
        "first_half = sales_q1.add(sales_q2, fill_value=0)\n",
        "first_half.dtype #see that Pandas changed it to floating point"
      ],
      "execution_count": 20,
      "outputs": [
        {
          "output_type": "execute_result",
          "data": {
            "text/plain": [
              "dtype('float64')"
            ]
          },
          "metadata": {
            "tags": []
          },
          "execution_count": 20
        }
      ]
    }
  ]
}