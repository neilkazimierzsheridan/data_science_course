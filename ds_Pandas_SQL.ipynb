{
  "nbformat": 4,
  "nbformat_minor": 0,
  "metadata": {
    "colab": {
      "name": "ds_Pandas_SQL.ipynb",
      "provenance": [],
      "authorship_tag": "ABX9TyNuldPABWTsASrkCdXqg1S0",
      "include_colab_link": true
    },
    "kernelspec": {
      "name": "python3",
      "display_name": "Python 3"
    },
    "language_info": {
      "name": "python"
    }
  },
  "cells": [
    {
      "cell_type": "markdown",
      "metadata": {
        "id": "view-in-github",
        "colab_type": "text"
      },
      "source": [
        "<a href=\"https://colab.research.google.com/github/neilkazimierzsheridan/data_science_course/blob/main/ds_Pandas_SQL.ipynb\" target=\"_parent\"><img src=\"https://colab.research.google.com/assets/colab-badge.svg\" alt=\"Open In Colab\"/></a>"
      ]
    },
    {
      "cell_type": "code",
      "metadata": {
        "id": "mUzYuu9Kb-Be"
      },
      "source": [
        "import pandas as pd\n",
        "from sqlalchemy import create_engine"
      ],
      "execution_count": 1,
      "outputs": []
    },
    {
      "cell_type": "code",
      "metadata": {
        "id": "6kr0Kx01cDlN"
      },
      "source": [
        "url = \"https://en.wikipedia.org/wiki/World_population\""
      ],
      "execution_count": 2,
      "outputs": []
    },
    {
      "cell_type": "code",
      "metadata": {
        "id": "Hgs_stkVcJ-7"
      },
      "source": [
        "tables = pd.read_html(url) # get all the tables from that url"
      ],
      "execution_count": 3,
      "outputs": []
    },
    {
      "cell_type": "code",
      "metadata": {
        "colab": {
          "base_uri": "https://localhost:8080/"
        },
        "id": "nZOE_v4KcM_C",
        "outputId": "aef80b9e-11c5-497b-e22b-1982f84f44f7"
      },
      "source": [
        "len(tables) #how many tables in the wiki article?"
      ],
      "execution_count": 4,
      "outputs": [
        {
          "output_type": "execute_result",
          "data": {
            "text/plain": [
              "27"
            ]
          },
          "metadata": {
            "tags": []
          },
          "execution_count": 4
        }
      ]
    },
    {
      "cell_type": "code",
      "metadata": {
        "colab": {
          "base_uri": "https://localhost:8080/",
          "height": 360
        },
        "id": "Y7bJ9omvcP26",
        "outputId": "de1ca288-267a-4c4c-cbd1-2370cb34faad"
      },
      "source": [
        "tables[6]"
      ],
      "execution_count": 5,
      "outputs": [
        {
          "output_type": "execute_result",
          "data": {
            "text/html": [
              "<div>\n",
              "<style scoped>\n",
              "    .dataframe tbody tr th:only-of-type {\n",
              "        vertical-align: middle;\n",
              "    }\n",
              "\n",
              "    .dataframe tbody tr th {\n",
              "        vertical-align: top;\n",
              "    }\n",
              "\n",
              "    .dataframe thead th {\n",
              "        text-align: right;\n",
              "    }\n",
              "</style>\n",
              "<table border=\"1\" class=\"dataframe\">\n",
              "  <thead>\n",
              "    <tr style=\"text-align: right;\">\n",
              "      <th></th>\n",
              "      <th>Rank</th>\n",
              "      <th>Country</th>\n",
              "      <th>Population</th>\n",
              "      <th>Area(km2)</th>\n",
              "      <th>Density(pop/km2)</th>\n",
              "      <th>Population trend</th>\n",
              "    </tr>\n",
              "  </thead>\n",
              "  <tbody>\n",
              "    <tr>\n",
              "      <th>0</th>\n",
              "      <td>1</td>\n",
              "      <td>India</td>\n",
              "      <td>1378370000</td>\n",
              "      <td>3287240</td>\n",
              "      <td>419</td>\n",
              "      <td>Growing</td>\n",
              "    </tr>\n",
              "    <tr>\n",
              "      <th>1</th>\n",
              "      <td>2</td>\n",
              "      <td>Pakistan</td>\n",
              "      <td>224020000</td>\n",
              "      <td>803940</td>\n",
              "      <td>279</td>\n",
              "      <td>Growing</td>\n",
              "    </tr>\n",
              "    <tr>\n",
              "      <th>2</th>\n",
              "      <td>3</td>\n",
              "      <td>Bangladesh</td>\n",
              "      <td>170860000</td>\n",
              "      <td>143998</td>\n",
              "      <td>1187</td>\n",
              "      <td>Rapidly growing</td>\n",
              "    </tr>\n",
              "    <tr>\n",
              "      <th>3</th>\n",
              "      <td>4</td>\n",
              "      <td>Japan</td>\n",
              "      <td>126010000</td>\n",
              "      <td>377873</td>\n",
              "      <td>333</td>\n",
              "      <td>Declining[99]</td>\n",
              "    </tr>\n",
              "    <tr>\n",
              "      <th>4</th>\n",
              "      <td>5</td>\n",
              "      <td>Philippines</td>\n",
              "      <td>110380000</td>\n",
              "      <td>300000</td>\n",
              "      <td>368</td>\n",
              "      <td>Growing</td>\n",
              "    </tr>\n",
              "    <tr>\n",
              "      <th>5</th>\n",
              "      <td>6</td>\n",
              "      <td>Vietnam</td>\n",
              "      <td>96209000</td>\n",
              "      <td>331689</td>\n",
              "      <td>290</td>\n",
              "      <td>Growing</td>\n",
              "    </tr>\n",
              "    <tr>\n",
              "      <th>6</th>\n",
              "      <td>7</td>\n",
              "      <td>United Kingdom</td>\n",
              "      <td>66436000</td>\n",
              "      <td>243610</td>\n",
              "      <td>273</td>\n",
              "      <td>Steady</td>\n",
              "    </tr>\n",
              "    <tr>\n",
              "      <th>7</th>\n",
              "      <td>8</td>\n",
              "      <td>South Korea</td>\n",
              "      <td>51781000</td>\n",
              "      <td>99538</td>\n",
              "      <td>520</td>\n",
              "      <td>Steady</td>\n",
              "    </tr>\n",
              "    <tr>\n",
              "      <th>8</th>\n",
              "      <td>9</td>\n",
              "      <td>Taiwan</td>\n",
              "      <td>23604000</td>\n",
              "      <td>36193</td>\n",
              "      <td>652</td>\n",
              "      <td>Steady</td>\n",
              "    </tr>\n",
              "    <tr>\n",
              "      <th>9</th>\n",
              "      <td>10</td>\n",
              "      <td>Sri Lanka</td>\n",
              "      <td>21803000</td>\n",
              "      <td>65610</td>\n",
              "      <td>332</td>\n",
              "      <td>Growing</td>\n",
              "    </tr>\n",
              "  </tbody>\n",
              "</table>\n",
              "</div>"
            ],
            "text/plain": [
              "   Rank         Country  ...  Density(pop/km2)  Population trend\n",
              "0     1           India  ...               419           Growing\n",
              "1     2        Pakistan  ...               279           Growing\n",
              "2     3      Bangladesh  ...              1187   Rapidly growing\n",
              "3     4           Japan  ...               333     Declining[99]\n",
              "4     5     Philippines  ...               368           Growing\n",
              "5     6         Vietnam  ...               290           Growing\n",
              "6     7  United Kingdom  ...               273            Steady\n",
              "7     8     South Korea  ...               520            Steady\n",
              "8     9          Taiwan  ...               652            Steady\n",
              "9    10       Sri Lanka  ...               332           Growing\n",
              "\n",
              "[10 rows x 6 columns]"
            ]
          },
          "metadata": {
            "tags": []
          },
          "execution_count": 5
        }
      ]
    },
    {
      "cell_type": "code",
      "metadata": {
        "id": "SaTM6CbScXFK"
      },
      "source": [
        "pop = tables[6]"
      ],
      "execution_count": 6,
      "outputs": []
    },
    {
      "cell_type": "code",
      "metadata": {
        "id": "k1ztD5O2cYQb"
      },
      "source": [
        "our_db = create_engine('sqlite:///:memory:')"
      ],
      "execution_count": 7,
      "outputs": []
    },
    {
      "cell_type": "code",
      "metadata": {
        "id": "stHBlDCecd2t"
      },
      "source": [
        "pop.to_sql(name='populations',con=our_db)"
      ],
      "execution_count": 8,
      "outputs": []
    },
    {
      "cell_type": "code",
      "metadata": {
        "colab": {
          "base_uri": "https://localhost:8080/",
          "height": 360
        },
        "id": "xFqlhRfJcxZA",
        "outputId": "6f1c4375-727e-4cca-eefe-971f0ec757f1"
      },
      "source": [
        "# Read in an entire table\n",
        "pd.read_sql(sql='populations',con=our_db)"
      ],
      "execution_count": 9,
      "outputs": [
        {
          "output_type": "execute_result",
          "data": {
            "text/html": [
              "<div>\n",
              "<style scoped>\n",
              "    .dataframe tbody tr th:only-of-type {\n",
              "        vertical-align: middle;\n",
              "    }\n",
              "\n",
              "    .dataframe tbody tr th {\n",
              "        vertical-align: top;\n",
              "    }\n",
              "\n",
              "    .dataframe thead th {\n",
              "        text-align: right;\n",
              "    }\n",
              "</style>\n",
              "<table border=\"1\" class=\"dataframe\">\n",
              "  <thead>\n",
              "    <tr style=\"text-align: right;\">\n",
              "      <th></th>\n",
              "      <th>index</th>\n",
              "      <th>Rank</th>\n",
              "      <th>Country</th>\n",
              "      <th>Population</th>\n",
              "      <th>Area(km2)</th>\n",
              "      <th>Density(pop/km2)</th>\n",
              "      <th>Population trend</th>\n",
              "    </tr>\n",
              "  </thead>\n",
              "  <tbody>\n",
              "    <tr>\n",
              "      <th>0</th>\n",
              "      <td>0</td>\n",
              "      <td>1</td>\n",
              "      <td>India</td>\n",
              "      <td>1378370000</td>\n",
              "      <td>3287240</td>\n",
              "      <td>419</td>\n",
              "      <td>Growing</td>\n",
              "    </tr>\n",
              "    <tr>\n",
              "      <th>1</th>\n",
              "      <td>1</td>\n",
              "      <td>2</td>\n",
              "      <td>Pakistan</td>\n",
              "      <td>224020000</td>\n",
              "      <td>803940</td>\n",
              "      <td>279</td>\n",
              "      <td>Growing</td>\n",
              "    </tr>\n",
              "    <tr>\n",
              "      <th>2</th>\n",
              "      <td>2</td>\n",
              "      <td>3</td>\n",
              "      <td>Bangladesh</td>\n",
              "      <td>170860000</td>\n",
              "      <td>143998</td>\n",
              "      <td>1187</td>\n",
              "      <td>Rapidly growing</td>\n",
              "    </tr>\n",
              "    <tr>\n",
              "      <th>3</th>\n",
              "      <td>3</td>\n",
              "      <td>4</td>\n",
              "      <td>Japan</td>\n",
              "      <td>126010000</td>\n",
              "      <td>377873</td>\n",
              "      <td>333</td>\n",
              "      <td>Declining[99]</td>\n",
              "    </tr>\n",
              "    <tr>\n",
              "      <th>4</th>\n",
              "      <td>4</td>\n",
              "      <td>5</td>\n",
              "      <td>Philippines</td>\n",
              "      <td>110380000</td>\n",
              "      <td>300000</td>\n",
              "      <td>368</td>\n",
              "      <td>Growing</td>\n",
              "    </tr>\n",
              "    <tr>\n",
              "      <th>5</th>\n",
              "      <td>5</td>\n",
              "      <td>6</td>\n",
              "      <td>Vietnam</td>\n",
              "      <td>96209000</td>\n",
              "      <td>331689</td>\n",
              "      <td>290</td>\n",
              "      <td>Growing</td>\n",
              "    </tr>\n",
              "    <tr>\n",
              "      <th>6</th>\n",
              "      <td>6</td>\n",
              "      <td>7</td>\n",
              "      <td>United Kingdom</td>\n",
              "      <td>66436000</td>\n",
              "      <td>243610</td>\n",
              "      <td>273</td>\n",
              "      <td>Steady</td>\n",
              "    </tr>\n",
              "    <tr>\n",
              "      <th>7</th>\n",
              "      <td>7</td>\n",
              "      <td>8</td>\n",
              "      <td>South Korea</td>\n",
              "      <td>51781000</td>\n",
              "      <td>99538</td>\n",
              "      <td>520</td>\n",
              "      <td>Steady</td>\n",
              "    </tr>\n",
              "    <tr>\n",
              "      <th>8</th>\n",
              "      <td>8</td>\n",
              "      <td>9</td>\n",
              "      <td>Taiwan</td>\n",
              "      <td>23604000</td>\n",
              "      <td>36193</td>\n",
              "      <td>652</td>\n",
              "      <td>Steady</td>\n",
              "    </tr>\n",
              "    <tr>\n",
              "      <th>9</th>\n",
              "      <td>9</td>\n",
              "      <td>10</td>\n",
              "      <td>Sri Lanka</td>\n",
              "      <td>21803000</td>\n",
              "      <td>65610</td>\n",
              "      <td>332</td>\n",
              "      <td>Growing</td>\n",
              "    </tr>\n",
              "  </tbody>\n",
              "</table>\n",
              "</div>"
            ],
            "text/plain": [
              "   index  Rank         Country  ...  Area(km2)  Density(pop/km2)  Population trend\n",
              "0      0     1           India  ...    3287240               419           Growing\n",
              "1      1     2        Pakistan  ...     803940               279           Growing\n",
              "2      2     3      Bangladesh  ...     143998              1187   Rapidly growing\n",
              "3      3     4           Japan  ...     377873               333     Declining[99]\n",
              "4      4     5     Philippines  ...     300000               368           Growing\n",
              "5      5     6         Vietnam  ...     331689               290           Growing\n",
              "6      6     7  United Kingdom  ...     243610               273            Steady\n",
              "7      7     8     South Korea  ...      99538               520            Steady\n",
              "8      8     9          Taiwan  ...      36193               652            Steady\n",
              "9      9    10       Sri Lanka  ...      65610               332           Growing\n",
              "\n",
              "[10 rows x 7 columns]"
            ]
          },
          "metadata": {
            "tags": []
          },
          "execution_count": 9
        }
      ]
    },
    {
      "cell_type": "code",
      "metadata": {
        "id": "GI8rNZi1dMTZ"
      },
      "source": [
        "# Read in with a SQL Query\n",
        "results1 = pd.read_sql_query(sql=\"SELECT Country FROM populations\",con=our_db)"
      ],
      "execution_count": 11,
      "outputs": []
    },
    {
      "cell_type": "code",
      "metadata": {
        "colab": {
          "base_uri": "https://localhost:8080/",
          "height": 360
        },
        "id": "teag_IMgdRTG",
        "outputId": "fee60620-b924-4742-e002-aaba71e1eda9"
      },
      "source": [
        "results1"
      ],
      "execution_count": 12,
      "outputs": [
        {
          "output_type": "execute_result",
          "data": {
            "text/html": [
              "<div>\n",
              "<style scoped>\n",
              "    .dataframe tbody tr th:only-of-type {\n",
              "        vertical-align: middle;\n",
              "    }\n",
              "\n",
              "    .dataframe tbody tr th {\n",
              "        vertical-align: top;\n",
              "    }\n",
              "\n",
              "    .dataframe thead th {\n",
              "        text-align: right;\n",
              "    }\n",
              "</style>\n",
              "<table border=\"1\" class=\"dataframe\">\n",
              "  <thead>\n",
              "    <tr style=\"text-align: right;\">\n",
              "      <th></th>\n",
              "      <th>Country</th>\n",
              "    </tr>\n",
              "  </thead>\n",
              "  <tbody>\n",
              "    <tr>\n",
              "      <th>0</th>\n",
              "      <td>India</td>\n",
              "    </tr>\n",
              "    <tr>\n",
              "      <th>1</th>\n",
              "      <td>Pakistan</td>\n",
              "    </tr>\n",
              "    <tr>\n",
              "      <th>2</th>\n",
              "      <td>Bangladesh</td>\n",
              "    </tr>\n",
              "    <tr>\n",
              "      <th>3</th>\n",
              "      <td>Japan</td>\n",
              "    </tr>\n",
              "    <tr>\n",
              "      <th>4</th>\n",
              "      <td>Philippines</td>\n",
              "    </tr>\n",
              "    <tr>\n",
              "      <th>5</th>\n",
              "      <td>Vietnam</td>\n",
              "    </tr>\n",
              "    <tr>\n",
              "      <th>6</th>\n",
              "      <td>United Kingdom</td>\n",
              "    </tr>\n",
              "    <tr>\n",
              "      <th>7</th>\n",
              "      <td>South Korea</td>\n",
              "    </tr>\n",
              "    <tr>\n",
              "      <th>8</th>\n",
              "      <td>Taiwan</td>\n",
              "    </tr>\n",
              "    <tr>\n",
              "      <th>9</th>\n",
              "      <td>Sri Lanka</td>\n",
              "    </tr>\n",
              "  </tbody>\n",
              "</table>\n",
              "</div>"
            ],
            "text/plain": [
              "          Country\n",
              "0           India\n",
              "1        Pakistan\n",
              "2      Bangladesh\n",
              "3           Japan\n",
              "4     Philippines\n",
              "5         Vietnam\n",
              "6  United Kingdom\n",
              "7     South Korea\n",
              "8          Taiwan\n",
              "9       Sri Lanka"
            ]
          },
          "metadata": {
            "tags": []
          },
          "execution_count": 12
        }
      ]
    }
  ]
}